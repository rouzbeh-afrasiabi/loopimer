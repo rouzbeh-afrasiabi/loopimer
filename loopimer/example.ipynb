{
 "cells": [
  {
   "cell_type": "code",
   "execution_count": 1,
   "metadata": {},
   "outputs": [],
   "source": [
    "from loopimer import *"
   ]
  },
  {
   "cell_type": "code",
   "execution_count": 8,
   "metadata": {},
   "outputs": [],
   "source": [
    "myTimer=timer()"
   ]
  },
  {
   "cell_type": "code",
   "execution_count": 17,
   "metadata": {},
   "outputs": [],
   "source": [
    "k=0\n",
    "def test(timer,t):\n",
    "    global k\n",
    "    k=k+t\n",
    "    if(k%10==0):\n",
    "        timer.pause=10\n",
    "    if(k==100):\n",
    "        timer.kill()"
   ]
  },
  {
   "cell_type": "code",
   "execution_count": 18,
   "metadata": {},
   "outputs": [],
   "source": [
    "myTimer.apply_to(test,t=1)"
   ]
  },
  {
   "cell_type": "code",
   "execution_count": 20,
   "metadata": {
    "scrolled": true
   },
   "outputs": [
    {
     "name": "stdout",
     "output_type": "stream",
     "text": [
      "Process suspended for  10  seconds\n",
      "00:00:10\n",
      "Process suspended for  10  seconds\n",
      "00:00:03\r"
     ]
    }
   ],
   "source": [
    "myTimer.startTimedLoop(every=0.1)"
   ]
  },
  {
   "cell_type": "code",
   "execution_count": 37,
   "metadata": {},
   "outputs": [
    {
     "name": "stdout",
     "output_type": "stream",
     "text": [
      "00:00:10\r",
      "\r\n"
     ]
    }
   ],
   "source": [
    "myTimer.kill()"
   ]
  },
  {
   "cell_type": "code",
   "execution_count": 42,
   "metadata": {},
   "outputs": [],
   "source": [
    "x=[i for i in range(0,500,1)]\n",
    "myTimer=timer(x,1)"
   ]
  },
  {
   "cell_type": "code",
   "execution_count": 43,
   "metadata": {},
   "outputs": [],
   "source": [
    "k=0\n",
    "def test(timer,t):\n",
    "    global k\n",
    "    k=k+t\n",
    "    print(timer.get())\n",
    "    if(k%10==0):\n",
    "        timer.pause=10\n",
    "    if(k==100):\n",
    "        timer.kill()"
   ]
  },
  {
   "cell_type": "code",
   "execution_count": 44,
   "metadata": {},
   "outputs": [],
   "source": [
    "myTimer.apply_to(test,t=1)"
   ]
  },
  {
   "cell_type": "code",
   "execution_count": 46,
   "metadata": {},
   "outputs": [
    {
     "name": "stdout",
     "output_type": "stream",
     "text": [
      "Process suspended for  10  seconds\n",
      "00:00:10\n",
      "[100]\n",
      "[101]\n",
      "[102]\n",
      "[103]\n",
      "[104]\n",
      "[105]\n",
      "[106]\n",
      "[107]\n",
      "[108]\n",
      "[109]\n",
      "Process suspended for  10  seconds\n",
      "00:00:04\r"
     ]
    }
   ],
   "source": [
    "myTimer.startTimedLoop(every=0.2)"
   ]
  }
 ],
 "metadata": {
  "kernelspec": {
   "display_name": "Python [default]",
   "language": "python",
   "name": "python3"
  },
  "language_info": {
   "codemirror_mode": {
    "name": "ipython",
    "version": 3
   },
   "file_extension": ".py",
   "mimetype": "text/x-python",
   "name": "python",
   "nbconvert_exporter": "python",
   "pygments_lexer": "ipython3",
   "version": "3.6.4"
  }
 },
 "nbformat": 4,
 "nbformat_minor": 2
}
