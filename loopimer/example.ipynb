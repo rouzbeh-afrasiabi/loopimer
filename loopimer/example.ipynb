{
 "cells": [
  {
   "cell_type": "code",
   "execution_count": 1,
   "metadata": {},
   "outputs": [],
   "source": [
    "from loopimer import *"
   ]
  },
  {
   "cell_type": "code",
   "execution_count": 2,
   "metadata": {},
   "outputs": [],
   "source": [
    "@loopimer(every=1)\n",
    "def test(timer,t):\n",
    "    timer.s_print(timer.now,' ',timer.elapsed)\n",
    "    if(timer.counter%3==0):\n",
    "        timer.pause=20\n",
    "    if(timer.counter%5==0):\n",
    "        timer.pause=2\n",
    "    if(timer.counter==20):\n",
    "        timer.kill()\n"
   ]
  },
  {
   "cell_type": "code",
   "execution_count": 3,
   "metadata": {
    "scrolled": true
   },
   "outputs": [
    {
     "name": "stdout",
     "output_type": "stream",
     "text": [
      "2019-07-17 09:49:08.820296   0:00:01.007824\n",
      "2019-07-17 09:49:09.829536   0:00:02.017064\n",
      "2019-07-17 09:49:10.877708   0:00:03.065236\n",
      "Process suspended for  20  seconds\n",
      "00:00:20\n",
      "2019-07-17 09:49:32.463560   0:00:24.651088\n",
      "2019-07-17 09:49:33.523269   0:00:25.710797\n",
      "Process suspended for  2  seconds\n",
      "00:00:02\n",
      "2019-07-17 09:49:37.209645   0:00:29.397173\n",
      "Process suspended for  20  seconds\n",
      "00:00:20\n",
      "2019-07-17 09:49:58.994855   0:00:51.182383\n",
      "2019-07-17 09:50:00.004196   0:00:52.191724\n",
      "2019-07-17 09:50:01.034604   0:00:53.222132\n",
      "Process suspended for  20  seconds\n",
      "00:00:20\n",
      "2019-07-17 09:50:22.549481   0:01:14.737009\n",
      "Process suspended for  2  seconds\n",
      "00:00:02\n",
      "2019-07-17 09:50:25.654143   0:01:17.841671\n",
      "2019-07-17 09:50:26.660475   0:01:18.848003\n",
      "Process suspended for  20  seconds\n",
      "00:00:20\n",
      "2019-07-17 09:50:48.267820   0:01:40.455348\n",
      "2019-07-17 09:50:49.274687   0:01:41.462215\n",
      "2019-07-17 09:50:50.287392   0:01:42.474920\n",
      "Process suspended for  2  seconds\n",
      "00:00:03\n",
      "2019-07-17 09:50:54.458406   0:01:46.645934\n",
      "2019-07-17 09:50:55.470908   0:01:47.658436\n",
      "2019-07-17 09:50:56.545673   0:01:48.733201\n",
      "Process suspended for  20  seconds\n",
      "00:00:20\n",
      "2019-07-17 09:51:18.076933   0:02:10.264461\n",
      "2019-07-17 09:51:19.107703   0:02:11.295231\n"
     ]
    }
   ],
   "source": [
    "test(t=1)"
   ]
  }
 ],
 "metadata": {
  "kernelspec": {
   "display_name": "Python [default]",
   "language": "python",
   "name": "python3"
  },
  "language_info": {
   "codemirror_mode": {
    "name": "ipython",
    "version": 3
   },
   "file_extension": ".py",
   "mimetype": "text/x-python",
   "name": "python",
   "nbconvert_exporter": "python",
   "pygments_lexer": "ipython3",
   "version": "3.6.4"
  }
 },
 "nbformat": 4,
 "nbformat_minor": 2
}
