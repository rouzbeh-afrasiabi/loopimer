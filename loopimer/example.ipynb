{
 "cells": [
  {
   "cell_type": "code",
   "execution_count": 1,
   "metadata": {},
   "outputs": [],
   "source": [
    "from loopimer import *"
   ]
  },
  {
   "cell_type": "code",
   "execution_count": null,
   "metadata": {},
   "outputs": [
    {
     "name": "stdout",
     "output_type": "stream",
     "text": [
      "loopimer\n",
      "loopimer\n",
      "loopimer\n",
      "loopimer\n",
      "loopimer\n",
      "loopimer\n",
      "loopimer\n",
      "loopimer\n"
     ]
    }
   ],
   "source": [
    "@loopimer(every=5)\n",
    "def test(loop,): \n",
    "    print('loopimer')\n",
    "test()"
   ]
  },
  {
   "cell_type": "code",
   "execution_count": null,
   "metadata": {},
   "outputs": [
    {
     "name": "stdout",
     "output_type": "stream",
     "text": [
      "7 loopimer\n",
      "6 loopimer\n",
      "0 loopimer\n",
      "5 loopimer\n",
      "1 loopimer\n",
      "6 loopimer\n",
      "7 loopimer\n",
      "9 loopimer\n"
     ]
    }
   ],
   "source": [
    "from random import randrange\n",
    "@loopimer(every=1)\n",
    "def test(loop,):\n",
    "    loop.k=randrange(10)\n",
    "    print(loop.k,'loopimer')\n",
    "test()  "
   ]
  },
  {
   "cell_type": "code",
   "execution_count": 3,
   "metadata": {
    "scrolled": true
   },
   "outputs": [
    {
     "name": "stdout",
     "output_type": "stream",
     "text": [
      "loopimer\n"
     ]
    }
   ],
   "source": [
    "@loopimer(every=5)\n",
    "def test(loop,): \n",
    "    print('loopimer')\n",
    "    loop.kill()\n",
    "test()   "
   ]
  },
  {
   "cell_type": "code",
   "execution_count": 5,
   "metadata": {
    "scrolled": true
   },
   "outputs": [
    {
     "name": "stdout",
     "output_type": "stream",
     "text": [
      "1\n",
      "2\n",
      "3\n",
      "4\n",
      "5\n",
      "6\n",
      "7\n",
      "8\n",
      "9\n",
      "10\n",
      "loopimer\n"
     ]
    }
   ],
   "source": [
    "@loopimer(every=1)\n",
    "def test(loop,):\n",
    "    print(loop.counter)\n",
    "    if(loop.counter==10):\n",
    "        print('loopimer')\n",
    "        loop.kill()\n",
    "test()  "
   ]
  },
  {
   "cell_type": "code",
   "execution_count": 6,
   "metadata": {},
   "outputs": [
    {
     "name": "stdout",
     "output_type": "stream",
     "text": [
      "1\n",
      "2\n",
      "3\n",
      "4\n",
      "5\n",
      "6\n",
      "7\n",
      "8\n",
      "9\n",
      "10\n",
      "loopimer\n"
     ]
    }
   ],
   "source": [
    "@loopimer(every=1,)\n",
    "def test(loop,):\n",
    "    print(loop.counter)\n",
    "    if(loop.counter==10):\n",
    "        print('loopimer')\n",
    "        loop.kill()\n",
    "test()"
   ]
  },
  {
   "cell_type": "code",
   "execution_count": 3,
   "metadata": {
    "scrolled": true
   },
   "outputs": [
    {
     "name": "stdout",
     "output_type": "stream",
     "text": [
      "0\n",
      "1\n",
      "2\n",
      "3\n",
      "4\n",
      "5\n",
      "6\n",
      "7\n",
      "8\n",
      "9\n",
      "10\n",
      "loopimer\n"
     ]
    }
   ],
   "source": [
    "@loopimer(every=1,i=0)\n",
    "def test(loop,):\n",
    "    print(loop.i)\n",
    "    if(loop.i==10):\n",
    "        print('loopimer')\n",
    "        loop.kill()\n",
    "    loop.i+=1\n",
    "test()"
   ]
  },
  {
   "cell_type": "code",
   "execution_count": 3,
   "metadata": {},
   "outputs": [
    {
     "name": "stdout",
     "output_type": "stream",
     "text": [
      "0:00:01.006900 1.0069\n",
      "0:00:02.016212 2.016212\n",
      "0:00:03.028039 3.028039\n",
      "0:00:04.035437 4.035437\n",
      "0:00:05.048718 5.048718\n",
      "0:00:06.059551 6.059551\n",
      "loopimer\n"
     ]
    }
   ],
   "source": [
    "@loopimer(every=1)\n",
    "def test(loop,):\n",
    "    print(loop.elapsed,loop.total_seconds)\n",
    "    if(loop.total_seconds>=6):\n",
    "        print('loopimer')\n",
    "        loop.kill()\n",
    "test()  "
   ]
  },
  {
   "cell_type": "code",
   "execution_count": 20,
   "metadata": {},
   "outputs": [
    {
     "name": "stdout",
     "output_type": "stream",
     "text": [
      "1 0\n"
     ]
    }
   ],
   "source": [
    "@loopimer(every=1)\n",
    "def test(loop,):\n",
    "    print(loop.counter,loop.sequence.get())\n",
    "test()   "
   ]
  },
  {
   "cell_type": "code",
   "execution_count": 4,
   "metadata": {
    "scrolled": true
   },
   "outputs": [
    {
     "name": "stdout",
     "output_type": "stream",
     "text": [
      "2 1\n",
      "3 2\n",
      "4 3\n",
      "5 4\n",
      "6 5\n",
      "7 6\n",
      "8 7\n",
      "9 8\n",
      "10 9\n"
     ]
    }
   ],
   "source": [
    "import queue\n",
    "new_queue=queue.Queue()\n",
    "new_target=[1,2,3,4,5,6,7,8,9]\n",
    "for item in new_target:\n",
    "    new_queue.put(item)\n",
    "@loopimer(every=1)\n",
    "def test(loop,new_queue):\n",
    "    if(loop.counter==1):\n",
    "        loop.sequence=new_queue\n",
    "    else:\n",
    "        print(loop.counter,loop.sequence.get())\n",
    "test(new_queue=new_queue)   "
   ]
  },
  {
   "cell_type": "code",
   "execution_count": 25,
   "metadata": {},
   "outputs": [
    {
     "name": "stdout",
     "output_type": "stream",
     "text": [
      "5\n",
      "53\n",
      "24\n",
      "93\n"
     ]
    }
   ],
   "source": [
    "from random import randrange\n",
    "\n",
    "@loopimer(every=1)\n",
    "def test(loop,):\n",
    "    loop.k=randrange(100)\n",
    "    print(loop.k)\n",
    "    if(loop.k>80):\n",
    "        loop.kill()\n",
    "test() "
   ]
  },
  {
   "cell_type": "code",
   "execution_count": 5,
   "metadata": {},
   "outputs": [
    {
     "name": "stdout",
     "output_type": "stream",
     "text": [
      "2 1\n",
      "3 2\n",
      "4 3\n",
      "5 4\n",
      "6 5\n",
      "7 6\n"
     ]
    }
   ],
   "source": [
    "import queue\n",
    "\n",
    "@loopimer(every=1)\n",
    "def test(loop):\n",
    "    if(loop.counter==1):\n",
    "        items=[1,2,3,4,5,6]\n",
    "        loop.sequence=queue.Queue()\n",
    "        for item in items:\n",
    "            loop.sequence.put(item)\n",
    "    else:\n",
    "        print(loop.counter,loop.sequence.get())\n",
    "test()   "
   ]
  },
  {
   "cell_type": "code",
   "execution_count": 6,
   "metadata": {},
   "outputs": [
    {
     "name": "stdout",
     "output_type": "stream",
     "text": [
      "2 1\n",
      "3 2\n",
      "4 3\n",
      "5 4\n",
      "6 5\n",
      "7 6\n"
     ]
    }
   ],
   "source": [
    "import queue\n",
    "\n",
    "@loopimer(every=1)\n",
    "def test(loop):\n",
    "    if(loop.counter==1):\n",
    "        items=[1,2,3,4,5,6]\n",
    "        loop.my_queue=queue.Queue()\n",
    "        for item in items:\n",
    "            loop.my_queue.put(item)\n",
    "        \n",
    "    else:\n",
    "        print(loop.counter,loop.my_queue.get())\n",
    "    if(loop.my_queue.qsize()==0):\n",
    "        loop.kill()\n",
    "test()   "
   ]
  },
  {
   "cell_type": "code",
   "execution_count": 8,
   "metadata": {},
   "outputs": [],
   "source": [
    "target=[i for i in range(0,100,1)]\n",
    "n_splits=10"
   ]
  },
  {
   "cell_type": "code",
   "execution_count": 9,
   "metadata": {
    "scrolled": true
   },
   "outputs": [
    {
     "name": "stdout",
     "output_type": "stream",
     "text": [
      "[0, 1, 2, 3, 4, 5, 6, 7, 8, 9]\n",
      "[10, 11, 12, 13, 14, 15, 16, 17, 18, 19]\n",
      "[20, 21, 22, 23, 24, 25, 26, 27, 28, 29]\n",
      "[30, 31, 32, 33, 34, 35, 36, 37, 38, 39]\n",
      "[40, 41, 42, 43, 44, 45, 46, 47, 48, 49]\n",
      "[50, 51, 52, 53, 54, 55, 56, 57, 58, 59]\n",
      "[60, 61, 62, 63, 64, 65, 66, 67, 68, 69]\n",
      "[70, 71, 72, 73, 74, 75, 76, 77, 78, 79]\n",
      "[80, 81, 82, 83, 84, 85, 86, 87, 88, 89]\n",
      "[90, 91, 92, 93, 94, 95, 96, 97, 98, 99]\n"
     ]
    }
   ],
   "source": [
    "@loopimer(target=target,n_splits=n_splits,every=1)\n",
    "def test(loop,):\n",
    "    print(loop.sequence.get())\n",
    "test()      "
   ]
  },
  {
   "cell_type": "code",
   "execution_count": 10,
   "metadata": {},
   "outputs": [
    {
     "name": "stdout",
     "output_type": "stream",
     "text": [
      "10 [0, 1, 2, 3, 4, 5, 6, 7, 8, 9]\n",
      "9 [10, 11, 12, 13, 14, 15, 16, 17, 18, 19]\n",
      "Process suspended for  20  seconds\n",
      "00:00:20\n",
      "8 [20, 21, 22, 23, 24, 25, 26, 27, 28, 29]\n",
      "7 [30, 31, 32, 33, 34, 35, 36, 37, 38, 39]\n",
      "6 [40, 41, 42, 43, 44, 45, 46, 47, 48, 49]\n",
      "5 [50, 51, 52, 53, 54, 55, 56, 57, 58, 59]\n",
      "4 [60, 61, 62, 63, 64, 65, 66, 67, 68, 69]\n",
      "3 [70, 71, 72, 73, 74, 75, 76, 77, 78, 79]\n",
      "2 [80, 81, 82, 83, 84, 85, 86, 87, 88, 89]\n",
      "1 [90, 91, 92, 93, 94, 95, 96, 97, 98, 99]\n"
     ]
    }
   ],
   "source": [
    "target=[i for i in range(0,100,1)]\n",
    "n_splits=10\n",
    "\n",
    "@loopimer(target=target,n_splits=n_splits,every=1)\n",
    "def test(loop,):\n",
    "    print(loop.sequence.qsize(),loop.sequence.get())\n",
    "    if(loop.sequence.qsize()==8):\n",
    "        loop.pause=20\n",
    "test()    "
   ]
  },
  {
   "cell_type": "code",
   "execution_count": 24,
   "metadata": {},
   "outputs": [],
   "source": [
    "import numpy as np\n",
    "import pandas as pd\n",
    "import datetime as dt\n",
    "import simplejson as json\n",
    "\n",
    "df = pd.DataFrame(np.random.randint(0,100,size=(100, 4)), columns=list('ABCD'))\n",
    "df['date']=dt.datetime.now()\n",
    "\n",
    "df_json=json.loads(df.to_json(orient='records'))\n",
    "\n",
    " "
   ]
  },
  {
   "cell_type": "code",
   "execution_count": 25,
   "metadata": {
    "scrolled": true
   },
   "outputs": [
    {
     "name": "stdout",
     "output_type": "stream",
     "text": [
      "[{\"A\": 9, \"B\": 55, \"C\": 20, \"D\": 90, \"date\": 1563399480427}, {\"A\": 14, \"B\": 45, \"C\": 11, \"D\": 39, \"date\": 1563399480427}, {\"A\": 20, \"B\": 23, \"C\": 99, \"D\": 49, \"date\": 1563399480427}, {\"A\": 69, \"B\": 63, \"C\": 57, \"D\": 84, \"date\": 1563399480427}, {\"A\": 98, \"B\": 98, \"C\": 36, \"D\": 47, \"date\": 1563399480427}, {\"A\": 8, \"B\": 27, \"C\": 35, \"D\": 31, \"date\": 1563399480427}, {\"A\": 95, \"B\": 81, \"C\": 89, \"D\": 81, \"date\": 1563399480427}, {\"A\": 4, \"B\": 84, \"C\": 73, \"D\": 69, \"date\": 1563399480427}, {\"A\": 77, \"B\": 93, \"C\": 88, \"D\": 92, \"date\": 1563399480427}, {\"A\": 98, \"B\": 53, \"C\": 51, \"D\": 75, \"date\": 1563399480427}] \n",
      "\n",
      "[{\"A\": 25, \"B\": 20, \"C\": 45, \"D\": 37, \"date\": 1563399480427}, {\"A\": 43, \"B\": 80, \"C\": 1, \"D\": 56, \"date\": 1563399480427}, {\"A\": 14, \"B\": 3, \"C\": 3, \"D\": 77, \"date\": 1563399480427}, {\"A\": 82, \"B\": 87, \"C\": 28, \"D\": 90, \"date\": 1563399480427}, {\"A\": 8, \"B\": 17, \"C\": 53, \"D\": 27, \"date\": 1563399480427}, {\"A\": 14, \"B\": 32, \"C\": 32, \"D\": 38, \"date\": 1563399480427}, {\"A\": 90, \"B\": 34, \"C\": 38, \"D\": 27, \"date\": 1563399480427}, {\"A\": 23, \"B\": 70, \"C\": 87, \"D\": 95, \"date\": 1563399480427}, {\"A\": 19, \"B\": 52, \"C\": 7, \"D\": 57, \"date\": 1563399480427}, {\"A\": 9, \"B\": 9, \"C\": 71, \"D\": 48, \"date\": 1563399480427}] \n",
      "\n",
      "[{\"A\": 56, \"B\": 23, \"C\": 10, \"D\": 75, \"date\": 1563399480427}, {\"A\": 50, \"B\": 94, \"C\": 30, \"D\": 84, \"date\": 1563399480427}, {\"A\": 1, \"B\": 13, \"C\": 92, \"D\": 20, \"date\": 1563399480427}, {\"A\": 36, \"B\": 37, \"C\": 18, \"D\": 64, \"date\": 1563399480427}, {\"A\": 59, \"B\": 88, \"C\": 43, \"D\": 39, \"date\": 1563399480427}, {\"A\": 46, \"B\": 96, \"C\": 41, \"D\": 41, \"date\": 1563399480427}, {\"A\": 20, \"B\": 91, \"C\": 30, \"D\": 90, \"date\": 1563399480427}, {\"A\": 10, \"B\": 60, \"C\": 80, \"D\": 98, \"date\": 1563399480427}, {\"A\": 18, \"B\": 64, \"C\": 29, \"D\": 3, \"date\": 1563399480427}, {\"A\": 95, \"B\": 70, \"C\": 3, \"D\": 47, \"date\": 1563399480427}] \n",
      "\n",
      "[{\"A\": 25, \"B\": 48, \"C\": 62, \"D\": 28, \"date\": 1563399480427}, {\"A\": 20, \"B\": 37, \"C\": 21, \"D\": 30, \"date\": 1563399480427}, {\"A\": 81, \"B\": 59, \"C\": 41, \"D\": 69, \"date\": 1563399480427}, {\"A\": 45, \"B\": 35, \"C\": 83, \"D\": 11, \"date\": 1563399480427}, {\"A\": 45, \"B\": 65, \"C\": 18, \"D\": 25, \"date\": 1563399480427}, {\"A\": 59, \"B\": 12, \"C\": 59, \"D\": 80, \"date\": 1563399480427}, {\"A\": 40, \"B\": 19, \"C\": 12, \"D\": 15, \"date\": 1563399480427}, {\"A\": 62, \"B\": 58, \"C\": 14, \"D\": 32, \"date\": 1563399480427}, {\"A\": 97, \"B\": 7, \"C\": 81, \"D\": 0, \"date\": 1563399480427}, {\"A\": 10, \"B\": 88, \"C\": 82, \"D\": 91, \"date\": 1563399480427}] \n",
      "\n",
      "[{\"A\": 54, \"B\": 30, \"C\": 50, \"D\": 96, \"date\": 1563399480427}, {\"A\": 63, \"B\": 23, \"C\": 89, \"D\": 87, \"date\": 1563399480427}, {\"A\": 74, \"B\": 67, \"C\": 7, \"D\": 56, \"date\": 1563399480427}, {\"A\": 43, \"B\": 23, \"C\": 5, \"D\": 1, \"date\": 1563399480427}, {\"A\": 58, \"B\": 88, \"C\": 17, \"D\": 82, \"date\": 1563399480427}, {\"A\": 35, \"B\": 47, \"C\": 72, \"D\": 50, \"date\": 1563399480427}, {\"A\": 45, \"B\": 20, \"C\": 8, \"D\": 54, \"date\": 1563399480427}, {\"A\": 45, \"B\": 33, \"C\": 24, \"D\": 10, \"date\": 1563399480427}, {\"A\": 30, \"B\": 88, \"C\": 37, \"D\": 34, \"date\": 1563399480427}, {\"A\": 94, \"B\": 73, \"C\": 38, \"D\": 57, \"date\": 1563399480427}] \n",
      "\n",
      "[{\"A\": 32, \"B\": 52, \"C\": 49, \"D\": 63, \"date\": 1563399480427}, {\"A\": 19, \"B\": 38, \"C\": 86, \"D\": 31, \"date\": 1563399480427}, {\"A\": 91, \"B\": 23, \"C\": 17, \"D\": 86, \"date\": 1563399480427}, {\"A\": 10, \"B\": 97, \"C\": 62, \"D\": 42, \"date\": 1563399480427}, {\"A\": 54, \"B\": 99, \"C\": 4, \"D\": 10, \"date\": 1563399480427}, {\"A\": 92, \"B\": 12, \"C\": 44, \"D\": 87, \"date\": 1563399480427}, {\"A\": 74, \"B\": 65, \"C\": 62, \"D\": 8, \"date\": 1563399480427}, {\"A\": 11, \"B\": 56, \"C\": 70, \"D\": 33, \"date\": 1563399480427}, {\"A\": 27, \"B\": 50, \"C\": 71, \"D\": 85, \"date\": 1563399480427}, {\"A\": 91, \"B\": 80, \"C\": 42, \"D\": 62, \"date\": 1563399480427}] \n",
      "\n",
      "[{\"A\": 98, \"B\": 57, \"C\": 92, \"D\": 4, \"date\": 1563399480427}, {\"A\": 3, \"B\": 20, \"C\": 69, \"D\": 5, \"date\": 1563399480427}, {\"A\": 40, \"B\": 89, \"C\": 44, \"D\": 19, \"date\": 1563399480427}, {\"A\": 81, \"B\": 92, \"C\": 52, \"D\": 39, \"date\": 1563399480427}, {\"A\": 54, \"B\": 3, \"C\": 6, \"D\": 95, \"date\": 1563399480427}, {\"A\": 4, \"B\": 59, \"C\": 20, \"D\": 14, \"date\": 1563399480427}, {\"A\": 87, \"B\": 29, \"C\": 50, \"D\": 85, \"date\": 1563399480427}, {\"A\": 94, \"B\": 64, \"C\": 19, \"D\": 22, \"date\": 1563399480427}, {\"A\": 90, \"B\": 29, \"C\": 97, \"D\": 16, \"date\": 1563399480427}, {\"A\": 51, \"B\": 11, \"C\": 73, \"D\": 26, \"date\": 1563399480427}] \n",
      "\n",
      "[{\"A\": 61, \"B\": 8, \"C\": 98, \"D\": 39, \"date\": 1563399480427}, {\"A\": 67, \"B\": 97, \"C\": 41, \"D\": 53, \"date\": 1563399480427}, {\"A\": 60, \"B\": 9, \"C\": 59, \"D\": 66, \"date\": 1563399480427}, {\"A\": 51, \"B\": 9, \"C\": 84, \"D\": 70, \"date\": 1563399480427}, {\"A\": 5, \"B\": 50, \"C\": 36, \"D\": 48, \"date\": 1563399480427}, {\"A\": 47, \"B\": 74, \"C\": 46, \"D\": 84, \"date\": 1563399480427}, {\"A\": 63, \"B\": 94, \"C\": 62, \"D\": 79, \"date\": 1563399480427}, {\"A\": 22, \"B\": 42, \"C\": 64, \"D\": 8, \"date\": 1563399480427}, {\"A\": 38, \"B\": 36, \"C\": 99, \"D\": 86, \"date\": 1563399480427}, {\"A\": 76, \"B\": 11, \"C\": 86, \"D\": 7, \"date\": 1563399480427}] \n",
      "\n",
      "[{\"A\": 75, \"B\": 81, \"C\": 58, \"D\": 37, \"date\": 1563399480427}, {\"A\": 34, \"B\": 18, \"C\": 41, \"D\": 19, \"date\": 1563399480427}, {\"A\": 42, \"B\": 0, \"C\": 95, \"D\": 89, \"date\": 1563399480427}, {\"A\": 14, \"B\": 71, \"C\": 47, \"D\": 90, \"date\": 1563399480427}, {\"A\": 30, \"B\": 73, \"C\": 70, \"D\": 78, \"date\": 1563399480427}, {\"A\": 29, \"B\": 34, \"C\": 84, \"D\": 94, \"date\": 1563399480427}, {\"A\": 67, \"B\": 81, \"C\": 78, \"D\": 46, \"date\": 1563399480427}, {\"A\": 57, \"B\": 47, \"C\": 51, \"D\": 39, \"date\": 1563399480427}, {\"A\": 39, \"B\": 22, \"C\": 88, \"D\": 52, \"date\": 1563399480427}, {\"A\": 18, \"B\": 67, \"C\": 38, \"D\": 35, \"date\": 1563399480427}] \n",
      "\n",
      "[{\"A\": 41, \"B\": 63, \"C\": 16, \"D\": 34, \"date\": 1563399480427}, {\"A\": 72, \"B\": 33, \"C\": 9, \"D\": 75, \"date\": 1563399480427}, {\"A\": 63, \"B\": 51, \"C\": 72, \"D\": 2, \"date\": 1563399480427}, {\"A\": 40, \"B\": 44, \"C\": 8, \"D\": 44, \"date\": 1563399480427}, {\"A\": 72, \"B\": 3, \"C\": 49, \"D\": 85, \"date\": 1563399480427}, {\"A\": 13, \"B\": 44, \"C\": 10, \"D\": 98, \"date\": 1563399480427}, {\"A\": 48, \"B\": 25, \"C\": 35, \"D\": 57, \"date\": 1563399480427}, {\"A\": 18, \"B\": 92, \"C\": 98, \"D\": 90, \"date\": 1563399480427}, {\"A\": 68, \"B\": 42, \"C\": 53, \"D\": 89, \"date\": 1563399480427}, {\"A\": 72, \"B\": 83, \"C\": 13, \"D\": 28, \"date\": 1563399480427}] \n",
      "\n"
     ]
    }
   ],
   "source": [
    "@loopimer(target=df_json,n_splits=10,every=1)\n",
    "def test(loop,):\n",
    "    print(json.dumps(loop.sequence.get()),'\\n')\n",
    "test() "
   ]
  },
  {
   "cell_type": "code",
   "execution_count": 38,
   "metadata": {},
   "outputs": [],
   "source": [
    "x=[1,2,3,4]"
   ]
  },
  {
   "cell_type": "code",
   "execution_count": 39,
   "metadata": {},
   "outputs": [
    {
     "ename": "TypeError",
     "evalue": "list indices must be integers or slices, not tuple",
     "output_type": "error",
     "traceback": [
      "\u001b[1;31m---------------------------------------------------------------------------\u001b[0m",
      "\u001b[1;31mTypeError\u001b[0m                                 Traceback (most recent call last)",
      "\u001b[1;32m<ipython-input-39-fd74ab1cc81a>\u001b[0m in \u001b[0;36m<module>\u001b[1;34m()\u001b[0m\n\u001b[1;32m----> 1\u001b[1;33m \u001b[0mx\u001b[0m\u001b[1;33m[\u001b[0m\u001b[1;32mTrue\u001b[0m\u001b[1;33m,\u001b[0m\u001b[1;32mFalse\u001b[0m\u001b[1;33m,\u001b[0m\u001b[1;32mTrue\u001b[0m\u001b[1;33m,\u001b[0m\u001b[1;32mTrue\u001b[0m\u001b[1;33m]\u001b[0m\u001b[1;33m\u001b[0m\u001b[0m\n\u001b[0m",
      "\u001b[1;31mTypeError\u001b[0m: list indices must be integers or slices, not tuple"
     ]
    }
   ],
   "source": [
    "x[True,False,True,True]"
   ]
  }
 ],
 "metadata": {
  "kernelspec": {
   "display_name": "Python [conda env:my-rdkit-env]",
   "language": "python",
   "name": "conda-env-my-rdkit-env-py"
  },
  "language_info": {
   "codemirror_mode": {
    "name": "ipython",
    "version": 3
   },
   "file_extension": ".py",
   "mimetype": "text/x-python",
   "name": "python",
   "nbconvert_exporter": "python",
   "pygments_lexer": "ipython3",
   "version": "3.6.6"
  }
 },
 "nbformat": 4,
 "nbformat_minor": 2
}
