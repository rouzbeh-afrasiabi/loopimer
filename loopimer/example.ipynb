{
 "cells": [
  {
   "cell_type": "code",
   "execution_count": 1,
   "metadata": {},
   "outputs": [],
   "source": [
    "from loopimer import *\n",
    "import functools"
   ]
  },
  {
   "cell_type": "code",
   "execution_count": 2,
   "metadata": {},
   "outputs": [],
   "source": [
    "class NiceDecorator:\n",
    "    def __init__(self, *args,**kwargs):\n",
    "        self.kwargs=kwargs\n",
    "        if(('target' in self.kwargs) & ('n_splits' in self.kwargs)):\n",
    "            self.ltimer=timer(self.kwargs['target'],self.kwargs['n_splits'])\n",
    "        else:\n",
    "            self.ltimer=timer()\n",
    "    def __call__(self, func):\n",
    "        def wrapper(*args,**kwargs):\n",
    "            self.ltimer.apply_to(func,**kwargs)\n",
    "            self.ltimer.startTimedLoop(self.kwargs['every'])\n",
    "            print('post action beep')\n",
    "            return\n",
    "\n",
    "        return wrapper\n"
   ]
  },
  {
   "cell_type": "code",
   "execution_count": 3,
   "metadata": {},
   "outputs": [],
   "source": [
    "x=[i for i in range(0,500,1)]"
   ]
  },
  {
   "cell_type": "code",
   "execution_count": 5,
   "metadata": {},
   "outputs": [],
   "source": [
    "@NiceDecorator(target=x,n_splits=10,every=5)\n",
    "def test(x,t):\n",
    "    print(x.get())\n"
   ]
  },
  {
   "cell_type": "code",
   "execution_count": 6,
   "metadata": {},
   "outputs": [
    {
     "name": "stdout",
     "output_type": "stream",
     "text": [
      "post action beep\n",
      "[0, 1, 2, 3, 4, 5, 6, 7, 8, 9]\n",
      "[10, 11, 12, 13, 14, 15, 16, 17, 18, 19]\n",
      "[20, 21, 22, 23, 24, 25, 26, 27, 28, 29]\n",
      "[30, 31, 32, 33, 34, 35, 36, 37, 38, 39]\n",
      "[40, 41, 42, 43, 44, 45, 46, 47, 48, 49]\n",
      "[50, 51, 52, 53, 54, 55, 56, 57, 58, 59]\n",
      "[60, 61, 62, 63, 64, 65, 66, 67, 68, 69]\n",
      "[70, 71, 72, 73, 74, 75, 76, 77, 78, 79]\n"
     ]
    }
   ],
   "source": [
    "test(t=1)"
   ]
  },
  {
   "cell_type": "code",
   "execution_count": 53,
   "metadata": {},
   "outputs": [],
   "source": [
    "def my_decorator(func):\n",
    "    @functools.wraps(func)\n",
    "    def wrapper(*args, **kwargs):\n",
    "        print(\"Something is happening before the function is called.\")\n",
    "        func(**kwrgs)\n",
    "        print(\"Something is happening after the function is called.\")\n",
    "    return (func(*args, **kwargs))"
   ]
  },
  {
   "cell_type": "code",
   "execution_count": 70,
   "metadata": {},
   "outputs": [],
   "source": [
    "@NiceDecorator(every=0.1)\n",
    "def test(timer,t):\n",
    "    print(timer.counter)\n",
    "    if(timer.counter%10==0):\n",
    "        timer.pause=10\n",
    "#     if(k==100):\n",
    "#         timer.kill()"
   ]
  },
  {
   "cell_type": "code",
   "execution_count": 3,
   "metadata": {},
   "outputs": [],
   "source": [
    "myTimer=timer()"
   ]
  },
  {
   "cell_type": "code",
   "execution_count": 71,
   "metadata": {},
   "outputs": [
    {
     "name": "stdout",
     "output_type": "stream",
     "text": [
      "hello\n",
      "post action beep\n"
     ]
    },
    {
     "ename": "TypeError",
     "evalue": "test() missing 2 required positional arguments: 'timer' and 't'",
     "output_type": "error",
     "traceback": [
      "\u001b[1;31m---------------------------------------------------------------------------\u001b[0m",
      "\u001b[1;31mTypeError\u001b[0m                                 Traceback (most recent call last)",
      "\u001b[1;32m<ipython-input-71-fbd55f77ab7c>\u001b[0m in \u001b[0;36m<module>\u001b[1;34m()\u001b[0m\n\u001b[1;32m----> 1\u001b[1;33m \u001b[0mtest\u001b[0m\u001b[1;33m(\u001b[0m\u001b[1;33m)\u001b[0m\u001b[1;33m\u001b[0m\u001b[0m\n\u001b[0m",
      "\u001b[1;32m<ipython-input-69-d5285a460875>\u001b[0m in \u001b[0;36mwrapper\u001b[1;34m(*args, **kwargs)\u001b[0m\n\u001b[0;32m     10\u001b[0m             \u001b[0mself\u001b[0m\u001b[1;33m.\u001b[0m\u001b[0mltimer\u001b[0m\u001b[1;33m.\u001b[0m\u001b[0mstartTimedLoop\u001b[0m\u001b[1;33m(\u001b[0m\u001b[1;33m**\u001b[0m\u001b[0mself\u001b[0m\u001b[1;33m.\u001b[0m\u001b[0mkwargs\u001b[0m\u001b[1;33m)\u001b[0m\u001b[1;33m\u001b[0m\u001b[0m\n\u001b[0;32m     11\u001b[0m             \u001b[0mprint\u001b[0m\u001b[1;33m(\u001b[0m\u001b[1;34m'post action beep'\u001b[0m\u001b[1;33m)\u001b[0m\u001b[1;33m\u001b[0m\u001b[0m\n\u001b[1;32m---> 12\u001b[1;33m             \u001b[1;32mreturn\u001b[0m \u001b[1;33m(\u001b[0m\u001b[0mfunc\u001b[0m\u001b[1;33m(\u001b[0m\u001b[1;33m*\u001b[0m\u001b[0margs\u001b[0m\u001b[1;33m,\u001b[0m\u001b[1;33m**\u001b[0m\u001b[0mkwargs\u001b[0m\u001b[1;33m)\u001b[0m\u001b[1;33m)\u001b[0m\u001b[1;33m\u001b[0m\u001b[0m\n\u001b[0m\u001b[0;32m     13\u001b[0m \u001b[1;33m\u001b[0m\u001b[0m\n\u001b[0;32m     14\u001b[0m         \u001b[1;32mreturn\u001b[0m \u001b[0mwrapper\u001b[0m\u001b[1;33m\u001b[0m\u001b[0m\n",
      "\u001b[1;31mTypeError\u001b[0m: test() missing 2 required positional arguments: 'timer' and 't'"
     ]
    },
    {
     "name": "stderr",
     "output_type": "stream",
     "text": [
      "Exception in thread Thread-29:\n",
      "Traceback (most recent call last):\n",
      "  File \"C:\\ProgramData\\Anaconda3\\lib\\threading.py\", line 916, in _bootstrap_inner\n",
      "    self.run()\n",
      "  File \"C:\\ProgramData\\Anaconda3\\lib\\threading.py\", line 864, in run\n",
      "    self._target(*self._args, **self._kwargs)\n",
      "  File \"C:\\Users\\rafrasiabi\\loopimer\\loopimer\\loopimer.py\", line 158, in _timedloopTrigger\n",
      "    self._target_function(self,**self._kwargs)\n",
      "TypeError: test() missing 1 required positional argument: 't'\n",
      "\n"
     ]
    }
   ],
   "source": [
    "test()"
   ]
  },
  {
   "cell_type": "code",
   "execution_count": 44,
   "metadata": {},
   "outputs": [],
   "source": [
    "myTimer.apply_to(test,t=1)"
   ]
  },
  {
   "cell_type": "code",
   "execution_count": 45,
   "metadata": {
    "scrolled": true
   },
   "outputs": [
    {
     "name": "stdout",
     "output_type": "stream",
     "text": [
      "1\n",
      "post action beep\n",
      "1\n",
      "2\n",
      "post action beep\n",
      "2\n",
      "3\n",
      "post action beep\n",
      "3\n",
      "4\n",
      "post action beep\n",
      "4\n",
      "5\n",
      "post action beep\n",
      "5\n",
      "6\n",
      "post action beep\n",
      "6\n",
      "7\n",
      "post action beep\n",
      "7\n",
      "8\n",
      "post action beep\n",
      "8\n",
      "9\n",
      "post action beep\n",
      "9\n",
      "10\n",
      "post action beep\n",
      "10\n",
      "Process suspended for  10  seconds\n",
      "00:00:10\n",
      "11\n",
      "post action beep\n",
      "11\n",
      "12\n",
      "post action beep\n",
      "12\n",
      "13\n",
      "post action beep\n",
      "13\n",
      "14\n",
      "post action beep\n",
      "14\n",
      "15\n",
      "post action beep\n",
      "15\n",
      "16\n",
      "post action beep\n",
      "16\n",
      "17\n",
      "post action beep\n",
      "17\n",
      "18\n",
      "post action beep\n",
      "18\n",
      "19\n",
      "post action beep\n",
      "19\n",
      "20\n",
      "post action beep\n",
      "20\n",
      "Process suspended for  10  seconds\n",
      "21:00:10\n",
      "\n",
      "post action beep\n",
      "21\n",
      "22\n",
      "post action beep\n",
      "22\n",
      "23\n",
      "post action beep\n",
      "23\n",
      "24\n",
      "post action beep\n",
      "24\n",
      "25\n",
      "post action beep\n",
      "25\n",
      "26\n",
      "post action beep\n",
      "26\n",
      "27\n",
      "post action beep\n",
      "27\n",
      "28\n",
      "post action beep\n",
      "28\n",
      "29\n",
      "post action beep\n",
      "29\n",
      "30\n",
      "post action beep\n",
      "30\n",
      "Process suspended for  10  seconds\n",
      "00:00:03\r"
     ]
    }
   ],
   "source": [
    "myTimer.startTimedLoop(every=0.1)"
   ]
  },
  {
   "cell_type": "code",
   "execution_count": 46,
   "metadata": {},
   "outputs": [
    {
     "name": "stdout",
     "output_type": "stream",
     "text": [
      "00:00:04\r",
      "\r\n"
     ]
    }
   ],
   "source": [
    "myTimer.kill()"
   ]
  },
  {
   "cell_type": "code",
   "execution_count": 42,
   "metadata": {},
   "outputs": [],
   "source": [
    "x=[i for i in range(0,500,1)]\n",
    "myTimer=timer(x,1)"
   ]
  },
  {
   "cell_type": "code",
   "execution_count": 43,
   "metadata": {},
   "outputs": [],
   "source": [
    "k=0\n",
    "def test(timer,t):\n",
    "    global k\n",
    "    k=k+t\n",
    "    print(timer.get())\n",
    "    if(k%10==0):\n",
    "        timer.pause=10\n",
    "    if(k==100):\n",
    "        timer.kill()"
   ]
  },
  {
   "cell_type": "code",
   "execution_count": 44,
   "metadata": {},
   "outputs": [],
   "source": [
    "myTimer.apply_to(test,t=1)"
   ]
  },
  {
   "cell_type": "code",
   "execution_count": 46,
   "metadata": {},
   "outputs": [
    {
     "name": "stdout",
     "output_type": "stream",
     "text": [
      "Process suspended for  10  seconds\n",
      "00:00:10\n",
      "[100]\n",
      "[101]\n",
      "[102]\n",
      "[103]\n",
      "[104]\n",
      "[105]\n",
      "[106]\n",
      "[107]\n",
      "[108]\n",
      "[109]\n",
      "Process suspended for  10  seconds\n",
      "00:00:10\n",
      "[110]\n",
      "[111]\n",
      "[112]\n",
      "[113]\n",
      "[114]\n",
      "[115]\n",
      "[116]\n",
      "[117]\n",
      "[118]\n",
      "[119]\n",
      "Process suspended for  10  seconds\n",
      "00:00:10\n",
      "[120]\n",
      "[121]\n",
      "[122]\n",
      "[123]\n",
      "[124]\n",
      "[125]\n",
      "[126]\n",
      "[127]\n",
      "[128]\n",
      "[129]\n",
      "Process suspended for  10  seconds\n",
      "00:00:02\r"
     ]
    }
   ],
   "source": [
    "myTimer.startTimedLoop(every=0.2)"
   ]
  }
 ],
 "metadata": {
  "kernelspec": {
   "display_name": "Python [default]",
   "language": "python",
   "name": "python3"
  },
  "language_info": {
   "codemirror_mode": {
    "name": "ipython",
    "version": 3
   },
   "file_extension": ".py",
   "mimetype": "text/x-python",
   "name": "python",
   "nbconvert_exporter": "python",
   "pygments_lexer": "ipython3",
   "version": "3.6.4"
  }
 },
 "nbformat": 4,
 "nbformat_minor": 2
}
