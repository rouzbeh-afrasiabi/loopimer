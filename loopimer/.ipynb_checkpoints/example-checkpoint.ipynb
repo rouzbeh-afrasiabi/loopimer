{
 "cells": [
  {
   "cell_type": "code",
   "execution_count": 9,
   "metadata": {},
   "outputs": [],
   "source": [
    "from loopimer import *"
   ]
  },
  {
   "cell_type": "code",
   "execution_count": 3,
   "metadata": {},
   "outputs": [],
   "source": [
    "'''\n",
    "In the simplest usage case you pass a value in seconds to the decorator through the 'every' variable. This will modify the\n",
    "function to execute every x seconds as an indefinite loop.\n",
    "'''\n",
    "\n",
    "@loopimer(every=1)\n",
    "\n",
    "\n",
    "\"\"\"\n",
    "The first variable location during function declaration will always be used as the placeholder for the loop that \n",
    "will be running in the background when the function is called. Below we have called this variable loop, \n",
    "however, you can use any name. Any other variables that will be passed to the function should be provided \n",
    "after this variable. \n",
    "\"\"\"\n",
    "\n",
    "def test(loop,t):\n",
    "    #it is reccommended that you use the s_print() function for printing to avoid \n",
    "    loop.s_print(loop.now,' ',loop.elapsed)\n",
    "    if(loop.counter%3==0):\n",
    "        #the loop can be delayed by passing a value in seconds\n",
    "        loop.pause=20\n",
    "    if(loop.counter%5==0):\n",
    "        loop.pause=2\n",
    "    if(loop.counter==20):\n",
    "        #the loop can be terminated by calling kill()\n",
    "        loop.kill()"
   ]
  },
  {
   "cell_type": "code",
   "execution_count": 4,
   "metadata": {
    "scrolled": true
   },
   "outputs": [
    {
     "name": "stdout",
     "output_type": "stream",
     "text": [
      "2019-07-17 12:43:46.569033   0:00:01.010536\n",
      "2019-07-17 12:43:47.584275   0:00:02.025778\n",
      "2019-07-17 12:43:48.596600   0:00:03.038103\n",
      "Process suspended for  20  seconds\n",
      "00:00:20\n",
      "2019-07-17 12:44:10.240143   0:00:24.680649\n",
      "2019-07-17 12:44:11.287409   0:00:25.728912\n",
      "Process suspended for  2  seconds\n",
      "00:00:02\n",
      "2019-07-17 12:44:14.520570   0:00:28.962073\n",
      "Process suspended for  20  seconds\n",
      "00:00:20\n",
      "2019-07-17 12:44:36.086168   0:00:50.527671\n",
      "2019-07-17 12:44:37.104991   0:00:51.546494\n",
      "2019-07-17 12:44:38.134503   0:00:52.576006\n",
      "Process suspended for  20  seconds\n",
      "00:00:20\n",
      "2019-07-17 12:44:59.862856   0:01:14.304359\n",
      "Process suspended for  2  seconds\n",
      "00:00:02\n",
      "2019-07-17 12:45:02.985053   0:01:17.426556\n",
      "2019-07-17 12:45:04.075132   0:01:18.516635\n",
      "Process suspended for  20  seconds\n",
      "00:00:20\n",
      "2019-07-17 12:45:25.743202   0:01:40.184705\n",
      "2019-07-17 12:45:26.812297   0:01:41.253800\n",
      "2019-07-17 12:45:27.841454   0:01:42.282957\n",
      "Process suspended for  2  seconds\n",
      "00:00:02\n",
      "2019-07-17 12:45:30.958642   0:01:45.400145\n",
      "2019-07-17 12:45:31.983892   0:01:46.425395\n",
      "2019-07-17 12:45:33.026175   0:01:47.467678\n",
      "Process suspended for  20  seconds\n",
      "00:00:20\n",
      "2019-07-17 12:45:54.414731   0:02:08.856234\n",
      "2019-07-17 12:45:55.421863   0:02:09.863366\n"
     ]
    }
   ],
   "source": [
    "test(t=1)"
   ]
  },
  {
   "cell_type": "code",
   "execution_count": 10,
   "metadata": {},
   "outputs": [],
   "source": [
    "target=[i for i in range(0,10000,1)]\n",
    "n_splits=10"
   ]
  },
  {
   "cell_type": "code",
   "execution_count": 19,
   "metadata": {},
   "outputs": [],
   "source": [
    "@loopimer(target=target,n_splits=n_splits,every=1)\n",
    "def test(loop,):\n",
    "    loop.s_print(loop.sequence.get())\n",
    "    if(loop.counter%5==0):\n",
    "        loop.pause=5\n",
    "    if(loop.counter==20):\n",
    "        loop.pause=20\n",
    "    if(loop.counter==40):\n",
    "        loop.kill()    "
   ]
  },
  {
   "cell_type": "code",
   "execution_count": 20,
   "metadata": {},
   "outputs": [
    {
     "name": "stdout",
     "output_type": "stream",
     "text": [
      "[0, 1, 2, 3, 4, 5, 6, 7, 8, 9]\n",
      "[10, 11, 12, 13, 14, 15, 16, 17, 18, 19]\n",
      "[20, 21, 22, 23, 24, 25, 26, 27, 28, 29]\n",
      "[30, 31, 32, 33, 34, 35, 36, 37, 38, 39]\n",
      "[40, 41, 42, 43, 44, 45, 46, 47, 48, 49]\n",
      "Process suspended for  5  seconds\n",
      "00:00:05\n",
      "[50, 51, 52, 53, 54, 55, 56, 57, 58, 59]\n",
      "[60, 61, 62, 63, 64, 65, 66, 67, 68, 69]\n",
      "[70, 71, 72, 73, 74, 75, 76, 77, 78, 79]\n",
      "[80, 81, 82, 83, 84, 85, 86, 87, 88, 89]\n",
      "[90, 91, 92, 93, 94, 95, 96, 97, 98, 99]\n",
      "Process suspended for  5  seconds\n",
      "00:00:05\n",
      "[100, 101, 102, 103, 104, 105, 106, 107, 108, 109]\n",
      "[110, 111, 112, 113, 114, 115, 116, 117, 118, 119]\n",
      "[120, 121, 122, 123, 124, 125, 126, 127, 128, 129]\n",
      "[130, 131, 132, 133, 134, 135, 136, 137, 138, 139]\n",
      "[140, 141, 142, 143, 144, 145, 146, 147, 148, 149]\n",
      "Process suspended for  5  seconds\n",
      "00:00:05\n",
      "[150, 151, 152, 153, 154, 155, 156, 157, 158, 159]\n",
      "[160, 161, 162, 163, 164, 165, 166, 167, 168, 169]\n",
      "[170, 171, 172, 173, 174, 175, 176, 177, 178, 179]\n",
      "[180, 181, 182, 183, 184, 185, 186, 187, 188, 189]\n",
      "[190, 191, 192, 193, 194, 195, 196, 197, 198, 199]\n",
      "Process suspended for  20  seconds\n",
      "00:00:21\n",
      "[200, 201, 202, 203, 204, 205, 206, 207, 208, 209]\n",
      "[210, 211, 212, 213, 214, 215, 216, 217, 218, 219]\n",
      "[220, 221, 222, 223, 224, 225, 226, 227, 228, 229]\n",
      "[230, 231, 232, 233, 234, 235, 236, 237, 238, 239]\n",
      "[240, 241, 242, 243, 244, 245, 246, 247, 248, 249]\n",
      "Process suspended for  5  seconds\n",
      "00:00:05\n",
      "[250, 251, 252, 253, 254, 255, 256, 257, 258, 259]\n",
      "[260, 261, 262, 263, 264, 265, 266, 267, 268, 269]\n",
      "[270, 271, 272, 273, 274, 275, 276, 277, 278, 279]\n",
      "[280, 281, 282, 283, 284, 285, 286, 287, 288, 289]\n",
      "[290, 291, 292, 293, 294, 295, 296, 297, 298, 299]\n",
      "Process suspended for  5  seconds\n",
      "00:00:05\n",
      "[300, 301, 302, 303, 304, 305, 306, 307, 308, 309]\n",
      "[310, 311, 312, 313, 314, 315, 316, 317, 318, 319]\n",
      "[320, 321, 322, 323, 324, 325, 326, 327, 328, 329]\n",
      "[330, 331, 332, 333, 334, 335, 336, 337, 338, 339]\n",
      "[340, 341, 342, 343, 344, 345, 346, 347, 348, 349]\n",
      "Process suspended for  5  seconds\n",
      "00:00:05\n",
      "[350, 351, 352, 353, 354, 355, 356, 357, 358, 359]\n",
      "[360, 361, 362, 363, 364, 365, 366, 367, 368, 369]\n",
      "[370, 371, 372, 373, 374, 375, 376, 377, 378, 379]\n",
      "[380, 381, 382, 383, 384, 385, 386, 387, 388, 389]\n",
      "[390, 391, 392, 393, 394, 395, 396, 397, 398, 399]\n"
     ]
    }
   ],
   "source": [
    "test()"
   ]
  }
 ],
 "metadata": {
  "kernelspec": {
   "display_name": "Python [default]",
   "language": "python",
   "name": "python3"
  },
  "language_info": {
   "codemirror_mode": {
    "name": "ipython",
    "version": 3
   },
   "file_extension": ".py",
   "mimetype": "text/x-python",
   "name": "python",
   "nbconvert_exporter": "python",
   "pygments_lexer": "ipython3",
   "version": "3.6.4"
  }
 },
 "nbformat": 4,
 "nbformat_minor": 2
}
